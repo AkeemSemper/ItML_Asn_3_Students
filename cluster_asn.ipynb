{
 "cells": [
  {
   "cell_type": "code",
   "execution_count": 2,
   "metadata": {},
   "outputs": [],
   "source": [
    "import matplotlib.pyplot as plt\n",
    "import seaborn as sns\n",
    "import numpy as np\n",
    "import pandas as pd\n",
    "\n",
    "from sklearn.datasets import fetch_openml\n",
    "from sklearn.cluster import KMeans"
   ]
  },
  {
   "attachments": {},
   "cell_type": "markdown",
   "metadata": {},
   "source": [
    "# Assignment 3 - Clustering\n",
    "\n",
    "For this assignment you'll need to use some clustering knowledge to build a function that can generate handwritten numbers from a provided number. \n",
    "\n",
    "The modelling parts of this assignment are not very complex, the application of the clustering algorithms is very similar to the examples from class. This will require a little more manipulation of data, and building a little bit of structure around the models, that's where some of the challenge lies. \n",
    "\n",
    "## Requirements\n",
    "<ul>\n",
    "<li>Use clustering to take the X data (the features/pixels) of the MNIST dataset, and group it into clusters. \n",
    "    <ul>\n",
    "    <li> Do not use the targets from the dataset at all. \n",
    "    <li> Use as many clusters as you think is appropriate.\n",
    "    </ul>\n",
    "<li>Assign labels to your clusters, so there is now a label for each cluster. You'll need to manually do a little mapping here by eye. \n",
    "<li><b>So, to this point. You take the images, ditch their labels, and do clustering to group them. You don't know which cluster is which digit. You have to then label them, or look at each one and say, \"looks like 7s\", then assign that group a label of 7. </b>\n",
    "<li>Use GMM to build a function that can generate a new digit from the information in the cluster. \n",
    "<li>Write a function, writeNumber, that can take in an integer (you can assume it is between 1 and 20 digits, this is mostly for printing purposes, the modelling part isn't impacted by this at all) and print out that integer as a generated handwritten number. \n",
    "<li><b>When generating the handwritten numbers, each version of a digit should be different. I.e. If the number printed is 22222, there should not be 5 identical 2s, they should vary a bit like real writing. Each digit should be a new generation of data.</b>\n",
    "</ul>\n",
    "\n",
    "## Deliverables\n",
    "Submit your .ipynb file to the Moodle dropbox. PLEASE make sure that the file runs BY ITSELF outside of importing libraries. It should not reference any other files, either data or code. \n",
    "\n",
    "Within your file, create a function called writeNumber, which takes a number as an input, and prints it out as a series of handwritten digits. The function should be callable like this, if I wanted to print the number 218201\n",
    "\n",
    "~~~\n",
    "writeNumber(218201)\n",
    "~~~\n",
    "\n",
    "This would produce something that looks, somewhat, like this:\n",
    "\n",
    "![Writing Example](example.png \"Writing Example\" )\n",
    "\n",
    "The exact appearance of the generated writing can vary, it likely won't be as well defined as this picture. As long as I can read it as a number, it is fine. \n",
    "\n",
    "Hint: the number of clusters may vary. \n",
    "\n",
    "## Grading\n",
    "<ul>\n",
    "<li> 70% - Code works. This is mostly a yes/no thing, if it doesn't work I'll try to see if it was a small or large issue in the code, but it largely works or it doesn't. \n",
    "<li> 20% - Numbers appearance. Is the writing OK? I'm not going to be overly picky, if they are reasonably legible, that is fine. \n",
    "<li> 10% - Code legibility. Is a quick read over of the code clear? Sections, comments, etc... \n",
    "</ul>"
   ]
  },
  {
   "cell_type": "markdown",
   "metadata": {},
   "source": [
    "## Load Data\n",
    "<b> Please do not change this (substantially), probably outside of choosing between the full data and a subset. Don't load the target. </b>\n",
    "\n",
    "Note: testing will be much faster with a subset of records. "
   ]
  },
  {
   "cell_type": "code",
   "execution_count": 6,
   "metadata": {},
   "outputs": [
    {
     "name": "stdout",
     "output_type": "stream",
     "text": [
      "(70000, 784)\n"
     ]
    }
   ],
   "source": [
    "#Load Data\n",
    "from sklearn.datasets import fetch_openml\n",
    "mnist = fetch_openml('mnist_784', version=1)\n",
    "#mnist = mnist[0:15000]\n",
    "X = mnist[\"data\"]\n",
    "print(X.shape)"
   ]
  },
  {
   "attachments": {},
   "cell_type": "markdown",
   "metadata": {},
   "source": [
    "### NORMALIZING DATA:\n",
    "\n",
    "Normalizing the data means scaling the values of the data to a common range so that they can be compared on the same scale. In the given code, the line X = mnist.data / 255.0 normalizes the pixel values in the MNIST dataset by dividing each pixel value by 255.0, which is the maximum possible pixel value. This results in all the pixel values being scaled down to a range between 0 and 1.\n",
    "\n",
    "This step is important because clustering algorithms can be sensitive to the scale of the data. Normalizing the data ensures that each feature (in this case, pixel) contributes equally to the clustering process, regardless of its original scale."
   ]
  },
  {
   "cell_type": "code",
   "execution_count": 7,
   "metadata": {},
   "outputs": [],
   "source": [
    "X = mnist.data / 255.0 # normalize the data"
   ]
  },
  {
   "cell_type": "code",
   "execution_count": 8,
   "metadata": {},
   "outputs": [],
   "source": [
    "df= X.sample(30000)"
   ]
  },
  {
   "cell_type": "markdown",
   "metadata": {},
   "source": [
    "## Cluster \n",
    "\n",
    "We need to break the data into clusters first... "
   ]
  },
  {
   "attachments": {},
   "cell_type": "markdown",
   "metadata": {},
   "source": [
    "### Applying K-mean clustering of data:"
   ]
  },
  {
   "cell_type": "code",
   "execution_count": 9,
   "metadata": {},
   "outputs": [
    {
     "data": {
      "text/plain": [
       "(10, 784)"
      ]
     },
     "execution_count": 9,
     "metadata": {},
     "output_type": "execute_result"
    }
   ],
   "source": [
    "kmeans = KMeans(n_clusters=10)\n",
    "clusters = kmeans.fit_predict(X)\n",
    "kmeans.cluster_centers_.shape"
   ]
  },
  {
   "cell_type": "code",
   "execution_count": 33,
   "metadata": {},
   "outputs": [],
   "source": [
    "# Create a KMeans object with 10 clusters\n",
    "kmeans = KMeans(n_clusters=10)\n",
    "\n",
    "# Fit the KMeans model to the data\n",
    "kmeans.fit(X)\n",
    "\n",
    "# Predict the cluster labels for each data point\n",
    "labels = kmeans.predict(X)"
   ]
  },
  {
   "attachments": {},
   "cell_type": "markdown",
   "metadata": {},
   "source": [
    "### VISUALIZING THE RESULT:"
   ]
  },
  {
   "cell_type": "code",
   "execution_count": 10,
   "metadata": {},
   "outputs": [
    {
     "data": {
      "image/png": "[encoded data removed]",
      "text/plain": [
       "<Figure size 864x432 with 10 Axes>"
      ]
     },
     "metadata": {
      "needs_background": "light"
     },
     "output_type": "display_data"
    }
   ],
   "source": [
    "fig, axs = plt.subplots(2, 5, figsize=(12, 6))\n",
    "for i, ax in enumerate(axs.flatten()):\n",
    "    ax.imshow(kmeans.cluster_centers_[i].reshape(28, 28), cmap='gray')\n",
    "    ax.axis('off')\n",
    "plt.show()\n"
   ]
  },
  {
   "cell_type": "code",
   "execution_count": 25,
   "metadata": {},
   "outputs": [],
   "source": [
    "closest_center = int(kmeans.transform(X)[:, i].argmin())"
   ]
  },
  {
   "cell_type": "code",
   "execution_count": 19,
   "metadata": {},
   "outputs": [],
   "source": [
    "digit_labels = [8, 7, 5, 6, 0, 2, 1, 3, 9, 9]\n",
    "assert all(isinstance(d, int) for d in digit_labels)"
   ]
  },
  {
   "cell_type": "code",
   "execution_count": 21,
   "metadata": {},
   "outputs": [],
   "source": [
    "# Map cluster labels to digit labels\n",
    "digit_labels = [8, 7, 5, 6, 0, 2, 1, 3, 9, 9]\n",
    "cluster_to_digit = {i: digit_labels[i] for i in range(len(digit_labels))}"
   ]
  },
  {
   "cell_type": "code",
   "execution_count": null,
   "metadata": {},
   "outputs": [],
   "source": [
    "\n",
    "# Find the mode of the target labels for each cluster\n",
    "cluster_labels = np.zeros(10, dtype=np.int)\n",
    "for i in range(10):\n",
    "    mask = (labels == i)\n",
    "    target_labels = digits.target[mask]\n",
    "    cluster_labels[i] = np.bincount(target_labels).argmax()"
   ]
  },
  {
   "cell_type": "code",
   "execution_count": 32,
   "metadata": {},
   "outputs": [
    {
     "ename": "TypeError",
     "evalue": "only integer scalar arrays can be converted to a scalar index",
     "output_type": "error",
     "traceback": [
      "\u001b[1;31m---------------------------------------------------------------------------\u001b[0m",
      "\u001b[1;31mTypeError\u001b[0m                                 Traceback (most recent call last)",
      "\u001b[1;32mc:\\Users\\shikh\\OneDrive\\Documents\\DATA-3950\\ItML_Asn_3_Students\\cluster_asn.ipynb Cell 16\u001b[0m in \u001b[0;36m<cell line: 2>\u001b[1;34m()\u001b[0m\n\u001b[0;32m      <a href='vscode-notebook-cell:/c%3A/Users/shikh/OneDrive/Documents/DATA-3950/ItML_Asn_3_Students/cluster_asn.ipynb#X15sZmlsZQ%3D%3D?line=0'>1</a>\u001b[0m \u001b[39m# Assign labels to clusters based on cluster centers\u001b[39;00m\n\u001b[1;32m----> <a href='vscode-notebook-cell:/c%3A/Users/shikh/OneDrive/Documents/DATA-3950/ItML_Asn_3_Students/cluster_asn.ipynb#X15sZmlsZQ%3D%3D?line=1'>2</a>\u001b[0m cluster_labels \u001b[39m=\u001b[39m np\u001b[39m.\u001b[39;49mzeros(shape\u001b[39m=\u001b[39;49m(clusters,), dtype\u001b[39m=\u001b[39;49m\u001b[39mint\u001b[39;49m)\n\u001b[0;32m      <a href='vscode-notebook-cell:/c%3A/Users/shikh/OneDrive/Documents/DATA-3950/ItML_Asn_3_Students/cluster_asn.ipynb#X15sZmlsZQ%3D%3D?line=2'>3</a>\u001b[0m \u001b[39mfor\u001b[39;00m i \u001b[39min\u001b[39;00m \u001b[39mrange\u001b[39m(clusters):\n\u001b[0;32m      <a href='vscode-notebook-cell:/c%3A/Users/shikh/OneDrive/Documents/DATA-3950/ItML_Asn_3_Students/cluster_asn.ipynb#X15sZmlsZQ%3D%3D?line=3'>4</a>\u001b[0m     closest_center \u001b[39m=\u001b[39m \u001b[39mint\u001b[39m(kmeans\u001b[39m.\u001b[39mtransform(X)[:, i]\u001b[39m.\u001b[39margmin())\n",
      "\u001b[1;31mTypeError\u001b[0m: only integer scalar arrays can be converted to a scalar index"
     ]
    }
   ],
   "source": [
    "\n",
    "\n",
    "# Assign labels to clusters based on cluster centers\n",
    "cluster_labels = np.zeros(shape=(clusters,), dtype=int)\n",
    "for i in range(clusters):\n",
    "    closest_center = int(kmeans.transform(X)[:, i].argmin())\n",
    "    cluster_labels[i] = int(mnist.target[closest_center])\n",
    "cluster_labels = np.array(cluster_labels.tolist(), dtype=int)\n",
    "\n",
    "# Map cluster labels to digit labels\n",
    "digit_labels = [8, 7, 5, 6, 0, 2, 1, 2, 9, 9]\n",
    "cluster_to_digit = {i: digit_labels[i] for i in range(clusters)}\n",
    "\n",
    "# Assign digit labels to data points\n",
    "y = np.zeros(shape=(len(X),), dtype=int)\n",
    "for i in range(len(X)):\n",
    "    cluster = kmeans.predict(X[i].reshape(1, -1))[0]\n",
    "    y[i] = cluster_to_digit[cluster]"
   ]
  },
  {
   "cell_type": "code",
   "execution_count": null,
   "metadata": {},
   "outputs": [],
   "source": []
  }
 ],
 "metadata": {
  "interpreter": {
   "hash": "4d722d3adfa415172c1f5238b519fb86b488acdae450fd691ab06c09f4ca9173"
  },
  "kernelspec": {
   "display_name": "Python 3.9.7 64-bit ('ml3950': conda)",
   "language": "python",
   "name": "python3"
  },
  "language_info": {
   "codemirror_mode": {
    "name": "ipython",
    "version": 3
   },
   "file_extension": ".py",
   "mimetype": "text/x-python",
   "name": "python",
   "nbconvert_exporter": "python",
   "pygments_lexer": "ipython3",
   "version": "3.9.12"
  },
  "orig_nbformat": 4
 },
 "nbformat": 4,
 "nbformat_minor": 2
}
